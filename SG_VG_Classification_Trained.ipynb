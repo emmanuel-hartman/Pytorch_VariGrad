{
 "cells": [
  {
   "cell_type": "code",
   "execution_count": 29,
   "id": "d9b0f876",
   "metadata": {},
   "outputs": [],
   "source": [
    "import numpy as np\n",
    "import scipy.io\n",
    "import torch\n",
    "from VariGrad import VG_C"
   ]
  },
  {
   "cell_type": "code",
   "execution_count": 30,
   "id": "061861ae",
   "metadata": {},
   "outputs": [],
   "source": [
    "batchsize = 10\n",
    "trainsize=0\n",
    "mat = scipy.io.loadmat(\"shape_graphs_testing.mat\")\n",
    "template=torch.from_numpy(mat[\"template\"]).cuda().transpose(0,1)\n",
    "edges=torch.from_numpy(mat['tedges']).long().cuda()\n",
    "labels=torch.from_numpy(mat['labels']).long().cuda().transpose(0,1).squeeze()\n",
    "array=mat['graphs'].T\n",
    "arraye=mat['edges'].T\n"
   ]
  },
  {
   "cell_type": "code",
   "execution_count": 36,
   "id": "dab5226d",
   "metadata": {},
   "outputs": [],
   "source": [
    "VGClassification = VG_C(template, edges ,0, 25000, 10)"
   ]
  },
  {
   "cell_type": "code",
   "execution_count": 37,
   "id": "a7e21caa",
   "metadata": {},
   "outputs": [],
   "source": [
    "trainingedges,trainingdata, traininglabels,testedges,testdata, testlabels = VGClassification.load_data(array, arraye,labels)"
   ]
  },
  {
   "cell_type": "code",
   "execution_count": 38,
   "id": "f7e498e3",
   "metadata": {},
   "outputs": [],
   "source": [
    "VGClassification.load(\"trained_models/ClassifierSG\")"
   ]
  },
  {
   "cell_type": "code",
   "execution_count": 39,
   "id": "852b7a3b",
   "metadata": {},
   "outputs": [
    {
     "name": "stdout",
     "output_type": "stream",
     "text": [
      "99.39999389648438\n"
     ]
    }
   ],
   "source": [
    "accuracy=VGClassification.evaluate_accuracy(testdata,testedges,testlabels,10)\n",
    "print(accuracy.item())"
   ]
  }
 ],
 "metadata": {
  "kernelspec": {
   "display_name": "Python 3",
   "language": "python",
   "name": "python3"
  },
  "language_info": {
   "codemirror_mode": {
    "name": "ipython",
    "version": 3
   },
   "file_extension": ".py",
   "mimetype": "text/x-python",
   "name": "python",
   "nbconvert_exporter": "python",
   "pygments_lexer": "ipython3",
   "version": "3.9.12"
  }
 },
 "nbformat": 4,
 "nbformat_minor": 5
}
