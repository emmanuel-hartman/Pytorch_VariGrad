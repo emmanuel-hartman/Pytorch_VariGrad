{
 "cells": [
  {
   "cell_type": "code",
   "execution_count": 1,
   "id": "d9b0f876",
   "metadata": {},
   "outputs": [],
   "source": [
    "import numpy as np\n",
    "import scipy.io\n",
    "import torch\n",
    "\n",
    "from VariGrad import VG_C"
   ]
  },
  {
   "cell_type": "code",
   "execution_count": 2,
   "id": "061861ae",
   "metadata": {},
   "outputs": [],
   "source": [
    "batchsize = 10\n",
    "trainsize=35000\n",
    "\n",
    "mat = scipy.io.loadmat(\"shape_graphs_u.mat\")\n",
    "template=torch.from_numpy(mat[\"template\"]).cuda().transpose(0,1)\n",
    "edges=torch.from_numpy(mat['tedges']).long().cuda()\n",
    "labels=torch.from_numpy(mat['labels']).long().cuda().transpose(0,1).squeeze()\n",
    "array=mat['graphs'].T\n",
    "arraye=mat['edges'].T\n"
   ]
  },
  {
   "cell_type": "code",
   "execution_count": 3,
   "id": "dab5226d",
   "metadata": {},
   "outputs": [],
   "source": [
    "VGClassification = VG_C(template, edges ,trainsize, 41220-35000, 10)"
   ]
  },
  {
   "cell_type": "code",
   "execution_count": 4,
   "id": "a7e21caa",
   "metadata": {},
   "outputs": [],
   "source": [
    "trainingedges,trainingdata, traininglabels,testedges,testdata, testlabels = VGClassification.load_data(array, arraye,labels)"
   ]
  },
  {
   "cell_type": "code",
   "execution_count": 5,
   "id": "10be33b8",
   "metadata": {},
   "outputs": [
    {
     "name": "stdout",
     "output_type": "stream",
     "text": [
      "Epoch: 0 0.004312433492002574 96.7845611572265637330520.032411161048370890.059761436148878280.035594475596971806\n",
      "Epoch: 1 0.001065808026942437 98.247581481933611851953480.0130805668822410510.0041041454375124450.00321994083555103130.0063509155066467630.0063590224771729960.0013167432559140213\n",
      "Epoch: 2 0.0006617657146874966 98.58520507812558484911522 0.0011162546500064511\n",
      "Epoch: 3 0.00043234909560583987 99.00321197509766828316998 0.03914426960167303\n",
      "Epoch: 4 0.00038439622399110974 99.0835952758789150373607850.00023540311557709352 0.001117972540547753\n",
      "Epoch: 5 0.0003056072573805585 99.163986206054690335630630.00033157094219135320.0007654769157326988 0.0006403321473310760.00014800704408669517\n",
      "Epoch: 6 0.0002717981952197088 99.244369506835944695985359\n",
      "Epoch: 7 0.00023832975058626668 99.244369506835945239208966 0.0140658606222955112.0321560100811682e-05\n",
      "Epoch: 8 0.0002025690451894117 99.4372940063476608389353880.0013340193546028394 0.0072804866941410555 5.314762245660304e-05\n",
      "Epoch: 9 0.0001717065204175354 99.5819931030273460812447830.00151811218728931439.144221852906879e-05 0.00160266699311999926.808701148207465e-05\n"
     ]
    }
   ],
   "source": [
    "VGClassification.train(10, trainingdata, trainingedges, traininglabels ,testdata,testedges,testlabels)"
   ]
  },
  {
   "cell_type": "code",
   "execution_count": 7,
   "id": "1f1410d6",
   "metadata": {},
   "outputs": [],
   "source": [
    "VGClassification.save(\"trained_models/ClassifierSG\")"
   ]
  },
  {
   "cell_type": "code",
   "execution_count": null,
   "id": "732ecbaa",
   "metadata": {},
   "outputs": [],
   "source": []
  }
 ],
 "metadata": {
  "kernelspec": {
   "display_name": "Python 3",
   "language": "python",
   "name": "python3"
  },
  "language_info": {
   "codemirror_mode": {
    "name": "ipython",
    "version": 3
   },
   "file_extension": ".py",
   "mimetype": "text/x-python",
   "name": "python",
   "nbconvert_exporter": "python",
   "pygments_lexer": "ipython3",
   "version": "3.9.12"
  }
 },
 "nbformat": 4,
 "nbformat_minor": 5
}
