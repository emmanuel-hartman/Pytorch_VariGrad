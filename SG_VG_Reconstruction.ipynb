{
 "cells": [
  {
   "cell_type": "code",
   "execution_count": 1,
   "id": "d9b0f876",
   "metadata": {},
   "outputs": [],
   "source": [
    "import numpy as np\n",
    "import scipy.io\n",
    "import torch\n",
    "\n",
    "from VariGrad import VG_R"
   ]
  },
  {
   "cell_type": "code",
   "execution_count": 2,
   "id": "2b1b73be",
   "metadata": {},
   "outputs": [],
   "source": [
    "def plot3Dgraph(ax,a,color=\"blue\"):\n",
    "    a=a.cpu()\n",
    "    t=a[:,0:28]\n",
    "    la=torch.cat([a[:,0:1],a[:,29:65]],dim=1)\n",
    "    ra=torch.cat([a[:,0:1],a[:,66:102]],dim=1)\n",
    "    ll=torch.cat([a[:,27:28],a[:,103:136]],dim=1)\n",
    "    rl=torch.cat([a[:,27:28],a[:,137:170]],dim=1)\n",
    "    h=torch.cat([a[:,0:1],a[:,171:]],dim=1)\n",
    "    ax.plot3D(t[0], t[2], t[1],color=color)\n",
    "    ax.plot3D(la[0], la[2], la[1],color=color)\n",
    "    ax.plot3D(ra[0], ra[2], ra[1],color=color)\n",
    "    ax.plot3D(ll[0], ll[2], ll[1],color=color)\n",
    "    ax.plot3D(rl[0], rl[2], rl[1],color=color)\n",
    "    ax.plot3D(h[0], h[2], h[1],color=color)"
   ]
  },
  {
   "cell_type": "code",
   "execution_count": 3,
   "id": "061861ae",
   "metadata": {},
   "outputs": [],
   "source": [
    "batchsize = 10\n",
    "trainsize=35000\n",
    "\n",
    "mat = scipy.io.loadmat(\"shape_graphs_u.mat\")\n",
    "template=torch.from_numpy(mat[\"template\"]).cuda().transpose(0,1)\n",
    "edges=torch.from_numpy(mat['tedges']).long().cuda()\n",
    "array=mat['graphs'].T\n",
    "arraye=mat['edges'].T"
   ]
  },
  {
   "cell_type": "code",
   "execution_count": 4,
   "id": "dab5226d",
   "metadata": {},
   "outputs": [],
   "source": [
    "VGReconstuction = VG_R(template, edges ,trainsize, 10)"
   ]
  },
  {
   "cell_type": "code",
   "execution_count": 5,
   "id": "064f0595",
   "metadata": {},
   "outputs": [],
   "source": [
    "trainingedges,trainingdata,testedges,testdata = VGReconstuction.load_data(array, arraye)"
   ]
  },
  {
   "cell_type": "code",
   "execution_count": null,
   "id": "41a76cbd",
   "metadata": {},
   "outputs": [
    {
     "name": "stdout",
     "output_type": "stream",
     "text": [
      "Epoch: 0 0.02979168216654081 0.01566870441519598769212\n",
      "Epoch: 1 0.016139285922436082 0.01063717837598805\n",
      "Epoch: 2 0.01333002389758241 0.008515702234904865\n",
      "Epoch: 3 0.01173556923446401 0.009957635615734718\n",
      "Batch:2505/3500 0.0096138243239506325\r"
     ]
    }
   ],
   "source": [
    "VGReconstuction.train(200, trainingdata, trainingedges ,testdata,testedges)"
   ]
  },
  {
   "cell_type": "code",
   "execution_count": null,
   "id": "90a09dd2",
   "metadata": {},
   "outputs": [],
   "source": [
    "VGReconstuction.save(\"trained_models/EncoderSG\",\"trained_models/DecoderSG\")"
   ]
  }
 ],
 "metadata": {
  "kernelspec": {
   "display_name": "Python 3",
   "language": "python",
   "name": "python3"
  },
  "language_info": {
   "codemirror_mode": {
    "name": "ipython",
    "version": 3
   },
   "file_extension": ".py",
   "mimetype": "text/x-python",
   "name": "python",
   "nbconvert_exporter": "python",
   "pygments_lexer": "ipython3",
   "version": "3.9.12"
  }
 },
 "nbformat": 4,
 "nbformat_minor": 5
}
