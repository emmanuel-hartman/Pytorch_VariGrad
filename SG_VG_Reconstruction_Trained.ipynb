{
 "cells": [
  {
   "cell_type": "code",
   "execution_count": 2,
   "id": "d9b0f876",
   "metadata": {},
   "outputs": [],
   "source": [
    "import numpy as np\n",
    "import scipy.io\n",
    "import torch\n",
    "\n",
    "from VariGrad import VG_R, Encoder, Decoder\n",
    "import matplotlib.pyplot as plt\n",
    "from pylab import get_cmap"
   ]
  },
  {
   "cell_type": "code",
   "execution_count": null,
   "id": "2b1b73be",
   "metadata": {},
   "outputs": [],
   "source": [
    "def plot3Dgraph(ax,a,color=\"blue\"):\n",
    "    a=a.cpu()\n",
    "    t=a[:,0:28]\n",
    "    la=torch.cat([a[:,0:1],a[:,29:65]],dim=1)\n",
    "    ra=torch.cat([a[:,0:1],a[:,66:102]],dim=1)\n",
    "    ll=torch.cat([a[:,27:28],a[:,103:136]],dim=1)\n",
    "    rl=torch.cat([a[:,27:28],a[:,137:170]],dim=1)\n",
    "    h=torch.cat([a[:,0:1],a[:,171:]],dim=1)\n",
    "    ax.plot3D(t[0], t[2], t[1],color=color)\n",
    "    ax.plot3D(la[0], la[2], la[1],color=color)\n",
    "    ax.plot3D(ra[0], ra[2], ra[1],color=color)\n",
    "    ax.plot3D(ll[0], ll[2], ll[1],color=color)\n",
    "    ax.plot3D(rl[0], rl[2], rl[1],color=color)\n",
    "    ax.plot3D(h[0], h[2], h[1],color=color)"
   ]
  },
  {
   "cell_type": "code",
   "execution_count": null,
   "id": "061861ae",
   "metadata": {},
   "outputs": [],
   "source": [
    "batchsize = 10\n",
    "trainsize=0\n",
    "mat = scipy.io.loadmat(\"shape_graphs_testing.mat\")\n",
    "template=torch.from_numpy(mat[\"template\"]).cuda().transpose(0,1)\n",
    "edges=torch.from_numpy(mat['tedges']).long().cuda()\n",
    "array=mat['graphs'].T\n",
    "arraye=mat['edges'].T"
   ]
  },
  {
   "cell_type": "code",
   "execution_count": null,
   "id": "dab5226d",
   "metadata": {},
   "outputs": [],
   "source": [
    "VGReconstuction = VG_R(template, edges ,trainsize, 100)"
   ]
  },
  {
   "cell_type": "code",
   "execution_count": null,
   "id": "33252e81",
   "metadata": {},
   "outputs": [],
   "source": [
    "trainingedges,trainingdata,testedges,testdata = VGReconstuction.load_data(array, arraye)"
   ]
  },
  {
   "cell_type": "code",
   "execution_count": null,
   "id": "54320ee2",
   "metadata": {},
   "outputs": [],
   "source": [
    "VGReconstuction.load(\"trained_models/EncoderSG\",\"trained_models/DecoderSG\")"
   ]
  },
  {
   "cell_type": "code",
   "execution_count": null,
   "id": "622190b3",
   "metadata": {},
   "outputs": [],
   "source": [
    "loss=VGReconstuction.evaluate_loss(testdata,testedges,10,False)\n",
    "print(loss.item())"
   ]
  },
  {
   "cell_type": "code",
   "execution_count": null,
   "id": "6accf2e4",
   "metadata": {},
   "outputs": [],
   "source": [
    "codes = VGReconstuction.E(testdata,testedges)\n",
    "reconstructed =VGReconstuction.D(codes).detach()"
   ]
  },
  {
   "cell_type": "code",
   "execution_count": null,
   "id": "38cb9104",
   "metadata": {},
   "outputs": [],
   "source": [
    "cm=get_cmap('hsv')\n",
    "for i in range(67):\n",
    "    print(i)\n",
    "    a= reconstructed[i,:]+template[:]\n",
    "    b=testdata[i].cpu()\n",
    "\n",
    "    plt.figure(figsize=(10,10))    \n",
    "    ax = plt.axes(projection='3d')\n",
    "    plot3Dgraph(ax,a)    \n",
    "    ax.scatter(b[0].cpu(),b[2].cpu(),b[1].cpu(), color=cm(np.linspace(0,1,testdata[i].shape[1])))\n",
    "    plt.show()"
   ]
  },
  {
   "cell_type": "code",
   "execution_count": null,
   "id": "bf9718cf",
   "metadata": {},
   "outputs": [],
   "source": []
  }
 ],
 "metadata": {
  "kernelspec": {
   "display_name": "Python 3",
   "language": "python",
   "name": "python3"
  },
  "language_info": {
   "codemirror_mode": {
    "name": "ipython",
    "version": 3
   },
   "file_extension": ".py",
   "mimetype": "text/x-python",
   "name": "python",
   "nbconvert_exporter": "python",
   "pygments_lexer": "ipython3",
   "version": "3.9.12"
  }
 },
 "nbformat": 4,
 "nbformat_minor": 5
}
